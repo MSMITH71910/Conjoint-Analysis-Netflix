{
 "cells": [
  {
   "cell_type": "markdown",
   "metadata": {},
   "source": [
    "# Netflix Conjoint Analysis\n",
    "\n",
    "This notebook implements a comprehensive conjoint analysis for Netflix to address:\n",
    "1. Increase the number of subscriptions\n",
    "2. Increase the price (without losing too many subscribers)\n",
    "3. Add revenue streams\n",
    "4. Add new markets\n",
    "\n",
    "## Attributes and Levels:\n",
    "- **Content**: [Netflix Originals, Disney, HBO, Sports]\n",
    "- **Number of accounts** (simultaneous streams): [1, 2, 4]\n",
    "- **Price**: [$8.99, $12.99, $15.99, $19.99]"
   ]
  },
  {
   "cell_type": "code",
   "execution_count": null,
   "metadata": {},
   "outputs": [],
   "source": [
    "# Import the Netflix Conjoint Analysis class\n",
    "from netflix_conjoint_analysis import NetflixConjointAnalysis\n",
    "import pandas as pd\n",
    "import numpy as np\n",
    "import matplotlib.pyplot as plt\n",
    "\n",
    "# Set display options\n",
    "pd.set_option('display.max_columns', None)\n",
    "pd.set_option('display.width', None)\n",
    "\n",
    "print(\"Netflix Conjoint Analysis - Interactive Notebook\")\n",
    "print(\"=\" * 50)"
   ]
  },
  {
   "cell_type": "markdown",
   "metadata": {},
   "source": [
    "## Step 1: Initialize the Analysis"
   ]
  },
  {
   "cell_type": "code",
   "execution_count": null,
   "metadata": {},
   "outputs": [],
   "source": [
    "# Initialize the conjoint analysis\n",
    "netflix_analysis = NetflixConjointAnalysis()\n",
    "\n",
    "print(\"Attributes and Levels:\")\n",
    "for attr, levels in netflix_analysis.attributes.items():\n",
    "    print(f\"  {attr}: {levels}\")\n",
    "\n",
    "print(\"\\nBase Levels (for dummy coding):\")\n",
    "for attr, base in netflix_analysis.base_levels.items():\n",
    "    print(f\"  {attr}: {base}\")"
   ]
  },
  {
   "cell_type": "markdown",
   "metadata": {},
   "source": [
    "## Step 2: Create Fractional Factorial Design"
   ]
  },
  {
   "cell_type": "code",
   "execution_count": null,
   "metadata": {},
   "outputs": [],
   "source": [
    "# Create the experimental design\n",
    "profiles = netflix_analysis.create_fractional_factorial_design()\n",
    "print(\"\\nExperimental Profiles:\")\n",
    "print(profiles)"
   ]
  },
  {
   "cell_type": "markdown",
   "metadata": {},
   "source": [
    "## Step 3: Create Design Matrix"
   ]
  },
  {
   "cell_type": "code",
   "execution_count": null,
   "metadata": {},
   "outputs": [],
   "source": [
    "# Create dummy-coded design matrix\n",
    "design_matrix = netflix_analysis.create_design_matrix()\n",
    "print(\"\\nDesign Matrix (Dummy Coded):\")\n",
    "print(design_matrix)"
   ]
  },
  {
   "cell_type": "markdown",
   "metadata": {},
   "source": [
    "## Step 4: Simulate Consumer Responses"
   ]
  },
  {
   "cell_type": "code",
   "execution_count": null,
   "metadata": {},
   "outputs": [],
   "source": [
    "# Simulate responses from 100 respondents\n",
    "responses = netflix_analysis.simulate_responses(n_respondents=100)\n",
    "\n",
    "print(\"\\nSample of Simulated Responses:\")\n",
    "print(responses.head(15))\n",
    "\n",
    "print(\"\\nResponse Summary Statistics:\")\n",
    "print(responses['Rating'].describe())"
   ]
  },
  {
   "cell_type": "markdown",
   "metadata": {},
   "source": [
    "## Step 5: Estimate the Conjoint Model"
   ]
  },
  {
   "cell_type": "code",
   "execution_count": null,
   "metadata": {},
   "outputs": [],
   "source": [
    "# Estimate the OLS regression model\n",
    "model_results = netflix_analysis.estimate_model()"
   ]
  },
  {
   "cell_type": "markdown",
   "metadata": {},
   "source": [
    "## Step 6: Calculate Part-Worth Utilities"
   ]
  },
  {
   "cell_type": "code",
   "execution_count": null,
   "metadata": {},
   "outputs": [],
   "source": [
    "# Calculate part-worth utilities and relative importance\n",
    "part_worths, relative_importance = netflix_analysis.calculate_part_worths()"
   ]
  },
  {
   "cell_type": "markdown",
   "metadata": {},
   "source": [
    "## Step 7: Market Scenario Analysis"
   ]
  },
  {
   "cell_type": "code",
   "execution_count": null,
   "metadata": {},
   "outputs": [],
   "source": [
    "# Simulate different market scenarios\n",
    "scenario_results = netflix_analysis.simulate_market_scenarios()"
   ]
  },
  {
   "cell_type": "markdown",
   "metadata": {},
   "source": [
    "## Step 8: Create Visualizations"
   ]
  },
  {
   "cell_type": "code",
   "execution_count": null,
   "metadata": {},
   "outputs": [],
   "source": [
    "# Create comprehensive visualizations\n",
    "netflix_analysis.create_visualizations()"
   ]
  },
  {
   "cell_type": "markdown",
   "metadata": {},
   "source": [
    "## Step 9: Business Insights and Recommendations"
   ]
  },
  {
   "cell_type": "code",
   "execution_count": null,
   "metadata": {},
   "outputs": [],
   "source": [
    "# Generate business insights\n",
    "insights = netflix_analysis.generate_business_insights()"
   ]
  },
  {
   "cell_type": "markdown",
   "metadata": {},
   "source": [
    "## Additional Analysis: Custom Scenarios"
   ]
  },
  {
   "cell_type": "code",
   "execution_count": null,
   "metadata": {},
   "outputs": [],
   "source": [
    "# You can test custom scenarios here\n",
    "def predict_utility(content, accounts, price):\n",
    "    \"\"\"Predict utility for a custom scenario\"\"\"\n",
    "    utility = netflix_analysis.model_results.params['const']  # Intercept\n",
    "    \n",
    "    # Add content utility\n",
    "    if content != 'Netflix Originals':\n",
    "        content_coeff = f\"Content_{content}\"\n",
    "        utility += netflix_analysis.model_results.params.get(content_coeff, 0)\n",
    "    \n",
    "    # Add accounts utility\n",
    "    if accounts != 1:\n",
    "        accounts_coeff = f\"Accounts_{accounts}\"\n",
    "        utility += netflix_analysis.model_results.params.get(accounts_coeff, 0)\n",
    "    \n",
    "    # Add price utility\n",
    "    if price != 8.99:\n",
    "        price_coeff = f\"Price_{price}\"\n",
    "        utility += netflix_analysis.model_results.params.get(price_coeff, 0)\n",
    "    \n",
    "    return utility\n",
    "\n",
    "# Test custom scenarios\n",
    "custom_scenarios = [\n",
    "    ('Netflix Originals', 2, 10.99),  # New price point\n",
    "    ('Disney', 1, 9.99),              # Disney basic\n",
    "    ('Sports', 4, 24.99),             # Premium sports\n",
    "]\n",
    "\n",
    "print(\"Custom Scenario Analysis:\")\n",
    "print(\"-\" * 40)\n",
    "for content, accounts, price in custom_scenarios:\n",
    "    utility = predict_utility(content, accounts, price)\n",
    "    print(f\"{content}, {accounts} accounts, ${price}: Utility = {utility:.3f}\")"
   ]
  },
  {
   "cell_type": "markdown",
   "metadata": {},
   "source": [
    "## Save Results"
   ]
  },
  {
   "cell_type": "code",
   "execution_count": null,
   "metadata": {},
   "outputs": [],
   "source": [
    "# Save all results to CSV files\n",
    "netflix_analysis.profiles.to_csv('profiles.csv', index=False)\n",
    "netflix_analysis.responses.to_csv('responses.csv', index=False)\n",
    "scenario_results.to_csv('market_scenarios.csv', index=False)\n",
    "\n",
    "print(\"Results saved to:\")\n",
    "print(\"- profiles.csv\")\n",
    "print(\"- responses.csv\")\n",
    "print(\"- market_scenarios.csv\")\n",
    "print(\"- conjoint_analysis_results.png\")\n",
    "print(\"- relative_importance.png\")"
   ]
  }
 ],
 "metadata": {
  "kernelspec": {
   "display_name": "Python 3",
   "language": "python",
   "name": "python3"
  },
  "language_info": {
   "codemirror_mode": {
    "name": "ipython",
    "version": 3
   },
   "file_extension": ".py",
   "mimetype": "text/x-python",
   "name": "python",
   "nbconvert_exporter": "python",
   "pygments_lexer": "ipython3",
   "version": "3.8.5"
  }
 },
 "nbformat": 4,
 "nbformat_minor": 4
}